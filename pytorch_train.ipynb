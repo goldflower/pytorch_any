{
 "cells": [
  {
   "cell_type": "code",
   "execution_count": 1,
   "metadata": {},
   "outputs": [],
   "source": [
    "import pandas as pd\n",
    "import torch.utils.data as Data\n",
    "import torch\n",
    "from torch.autograd import Variable\n",
    "import torch.nn.functional as F\n",
    "from torch.nn import init\n",
    "import matplotlib.pyplot as plt\n",
    "from torch import nn"
   ]
  },
  {
   "cell_type": "code",
   "execution_count": 111,
   "metadata": {},
   "outputs": [],
   "source": [
    "HIDDEN_LAYERS = 3\n",
    "B_INIT = -0.2\n",
    "ACTIVATION = F.relu\n",
    "class FcNet(torch.nn.Module):\n",
    "    def __init__(self, num_features, dim_out, batch_normalization=True):\n",
    "        \"\"\"\n",
    "        In the constructor we instantiate two nn.Linear modules and assign them as\n",
    "        member variables.\n",
    "        \"\"\"\n",
    "        super(FcNet, self).__init__()\n",
    "        self.do_bn = batch_normalization\n",
    "        self.fcs = []\n",
    "        self.bns = []\n",
    "        self.bn_input = nn.BatchNorm1d(num_features, momentum=0.5)   # for input data\n",
    "        \n",
    "        for i in range(HIDDEN_LAYERS):\n",
    "            input_size = num_features if i == 0 else 10 # each hidden layer has 10 neurons\n",
    "            fc = nn.Linear(input_size, 10)\n",
    "            setattr(self, 'fc%i' % i, fc) # such that pytorch can distinguish different layers\n",
    "            self._set_init(fc)\n",
    "            self.fcs.append(fc)\n",
    "            if self.do_bn:\n",
    "                bn = nn.BatchNorm1d(10, momentum=0.5)\n",
    "                setattr(self, 'bn%i' % i, bn)\n",
    "                self.bns.append(bn)\n",
    "            \n",
    "        self.predict = nn.Linear(10, 1)\n",
    "        self._set_init(self.predict)\n",
    "    \n",
    "    def _set_init(self, layer):\n",
    "        init.normal(layer.weight, mean=0, std=0.1)\n",
    "        init.constant(layer.bias, B_INIT)\n",
    "\n",
    "    def forward(self, x):\n",
    "        \"\"\"\n",
    "        In the forward function we accept a Variable of input data and we must return\n",
    "        a Variable of output data. We can use Modules defined in the constructor as\n",
    "        well as arbitrary operators on Variables.\n",
    "        \"\"\"\n",
    "        pre_activation = [x]\n",
    "        if self.do_bn: x = self.bn_input(x)\n",
    "        layer_input = [x]\n",
    "        for i in range(HIDDEN_LAYERS):\n",
    "            x = self.fcs[i](x)\n",
    "            pre_activation.append(x)\n",
    "            if self.do_bn:\n",
    "                x = self.bns[i](x)\n",
    "            x = ACTIVATION(x)\n",
    "            layer_input.append(x)\n",
    "        out = self.predict(x)\n",
    "        return out, layer_input, pre_activation"
   ]
  },
  {
   "cell_type": "code",
   "execution_count": 112,
   "metadata": {},
   "outputs": [],
   "source": [
    "df = pd.read_csv('Route15_trainMd.csv', index_col=0)"
   ]
  },
  {
   "cell_type": "code",
   "execution_count": 113,
   "metadata": {},
   "outputs": [],
   "source": [
    "df['TT_prv2'] = df['TT'].shift(2)\n",
    "df['TT_prv3'] = df['TT'].shift(3)\n",
    "df['flow_prv3'] = df['flow'].shift(3)"
   ]
  },
  {
   "cell_type": "code",
   "execution_count": 114,
   "metadata": {},
   "outputs": [],
   "source": [
    "drop_columns = ['Closed2','Closed3','Closed4','Closed5','Ramp0','Ramp1','Ramp2','Ramp3','Ramp4','Ramp5',\n",
    "                'Evt4','Evt5','Lanes0','Lanes1','Lanes2','Lanes3','Lanes4','Lanes5','Closed0','Closed1',\n",
    "                'SpdTrnd3','density3','SpdTrnd4','density4','SpdTrnd5','density5','Evt0','Evt1','Evt2','Evt3',\n",
    "                'FT5','flow5','occ5','lanes5','SpdTrnd0','density0','SpdTrnd1','density1','SpdTrnd2','density2',\n",
    "                'SpdLast4','JT4','FT4','flow4','occ4','lanes4','Spd5','SpdAvg5','SpdLast5','JT5',\n",
    "                'Spd3','SpdAvg3','SpdLast3','JT3','FT3','flow3','occ3','lanes3','Spd4','SpdAvg4',\n",
    "                'occ1','lanes1','Spd2','SpdAvg2','SpdLast2','JT2','FT2','flow2','occ2','lanes2',\n",
    "                'FT0','flow0','occ0','lanes0','Spd1','SpdAvg1','SpdLast1','JT1','FT1','flow1',\n",
    "                'Spd0','SpdAvg0','SpdLast0','JT0','TT_nxt3','TT_nxt6','TT_nxt12','W_TT','S_TT','L_TT','TT_chng1',\n",
    "                'TT_mean','flow_mean','flow_chng1','flow_chng2']\n",
    "keep_columns = ['TT','flow','sVF','bVF','month','holiday','hldy_seq','weekday','timeslot',\n",
    "                'TT_prv1','TT_prv2','TT_prv3','TT_dev',\n",
    "                'flow_dev','flow_prv1','flow_prv2','flow_prv3']\n",
    "\n",
    "train_df = df[keep_columns]"
   ]
  },
  {
   "cell_type": "code",
   "execution_count": 115,
   "metadata": {},
   "outputs": [],
   "source": [
    "target = pd.DataFrame(train_df['TT'])\n",
    "target['TT_30min_later'] = target['TT'].shift(periods = -6) # 30min\n",
    "target['TT_60min_later'] = target['TT'].shift(periods = -12) # 60min\n",
    "\n",
    "x_train, x_val, x_test = train_df[:-17568].fillna(-1), train_df[-17568:-8928].fillna(-1), train_df[-8928:].fillna(-1)\n",
    "y_train, y_val, y_test = target[:-17568]['TT_30min_later'].fillna(-1), target[-17568:-8928]['TT_30min_later'].fillna(-1), target[-8928:]['TT_30min_later'].fillna(-1)\n",
    "\n",
    "x_size = x_train.shape[1]\n",
    "y_size = 1 # for regression\n",
    "batch_size = 64\n",
    "x_train, y_train = torch.from_numpy(x_train.values).float(), torch.from_numpy(y_train.values).float()\n",
    "x_val, y_val = Variable(torch.from_numpy(x_val.values).float()).cuda(), Variable(torch.from_numpy(y_val.values).float()).cuda()\n",
    "\n",
    "train_dataset = Data.TensorDataset(data_tensor=x_train, target_tensor=y_train)\n",
    "train_loader = Data.DataLoader(dataset=train_dataset, batch_size=batch_size, shuffle=True, num_workers=2,)"
   ]
  },
  {
   "cell_type": "code",
   "execution_count": 117,
   "metadata": {},
   "outputs": [],
   "source": [
    "def mape_loss(predict, target):\n",
    "    import numpy\n",
    "    assert ((type(predict) == type(target) == torch.autograd.variable.Variable) or\n",
    "            type(predict) == type(target) == numpy.ndarray), 'check the type of inputs, they have to be all torch Variable or numpy ndarray'\n",
    "    if type(predict) == type(target) == torch.autograd.variable.Variable:\n",
    "        loss = (1 / predict.shape[0] * \n",
    "               torch.mean((target - predict).abs() / target))\n",
    "    elif type(predict) == type(target) == numpy.ndarray:\n",
    "        loss = (1 / predict.shape[0] * \n",
    "               numpy.mean(numpy.abs(target.flatten() - predict.flatten()) / target))        \n",
    "    return loss"
   ]
  },
  {
   "cell_type": "code",
   "execution_count": 118,
   "metadata": {},
   "outputs": [
    {
     "name": "stdout",
     "output_type": "stream",
     "text": [
      "1\n",
      "training error: 0.0005618996801786125\n",
      "validation error: 8.450171662843786e-06\n",
      "2\n",
      "training error: 0.0007474606391042471\n",
      "validation error: 8.472297849948518e-06\n",
      "3\n",
      "training error: 0.0005409382283687592\n",
      "validation error: 8.416929631493986e-06\n",
      "4\n",
      "training error: 0.0007356734713539481\n",
      "validation error: 8.387803063669708e-06\n",
      "5\n",
      "training error: 0.0007500201463699341\n",
      "validation error: 8.397903002332896e-06\n",
      "6\n",
      "training error: 0.0007994102779775858\n",
      "validation error: 8.440033525403123e-06\n",
      "7\n",
      "training error: 0.000809063611086458\n",
      "validation error: 8.41178643895546e-06\n",
      "8\n",
      "training error: 0.0007284981547854841\n",
      "validation error: 8.479022653773427e-06\n",
      "9\n",
      "training error: 0.0005632519023492932\n",
      "validation error: 8.544962838641368e-06\n",
      "10\n",
      "training error: 0.0009561191545799375\n",
      "validation error: 8.516674824932124e-06\n",
      "11\n",
      "training error: 0.0007349964580498636\n",
      "validation error: 8.409194379055407e-06\n",
      "12\n",
      "training error: 0.0008289343677461147\n",
      "validation error: 8.430004527326673e-06\n",
      "13\n",
      "training error: 0.0007334544789046049\n",
      "validation error: 8.40834400150925e-06\n",
      "14\n",
      "training error: 0.0007097612833604217\n",
      "validation error: 8.44157057144912e-06\n",
      "15\n",
      "training error: 0.000858994317241013\n",
      "validation error: 8.438717486569658e-06\n",
      "16\n",
      "training error: 0.0006994160357862711\n",
      "validation error: 8.39166204968933e-06\n",
      "17\n",
      "training error: 0.000716816633939743\n",
      "validation error: 8.3869272202719e-06\n",
      "18\n",
      "training error: 0.0008112449431791902\n",
      "validation error: 8.424446605204139e-06\n",
      "19\n",
      "training error: 0.0009845655877143145\n",
      "validation error: 8.770626664045267e-06\n",
      "20\n",
      "training error: 0.0006969180540181696\n",
      "validation error: 8.41181190480711e-06\n",
      "21\n",
      "training error: 0.0006454647518694401\n",
      "validation error: 8.545202035747934e-06\n",
      "22\n",
      "training error: 0.0005489439936354756\n",
      "validation error: 8.414538569923025e-06\n",
      "23\n",
      "training error: 0.0006379572441801429\n",
      "validation error: 8.41686505737016e-06\n",
      "24\n",
      "training error: 0.0005240917089395225\n",
      "validation error: 8.473193702229764e-06\n",
      "25\n",
      "training error: 0.0007241871207952499\n",
      "validation error: 8.476739822071977e-06\n",
      "26\n",
      "training error: 0.0006784452125430107\n",
      "validation error: 8.481288205075543e-06\n",
      "27\n",
      "training error: 0.0009210925782099366\n",
      "validation error: 8.388692549488042e-06\n",
      "28\n",
      "training error: 0.0006063382024876773\n",
      "validation error: 8.446643732895609e-06\n",
      "29\n",
      "training error: 0.0006477662827819586\n",
      "validation error: 8.482793418806978e-06\n",
      "30\n",
      "training error: 0.0008124429150484502\n",
      "validation error: 8.591583537054248e-06\n",
      "31\n",
      "training error: 0.0006658721249550581\n",
      "validation error: 8.437033102381974e-06\n",
      "32\n",
      "training error: 0.0006096196593716741\n",
      "validation error: 8.416246600972954e-06\n",
      "33\n",
      "training error: 0.0007185329450294375\n",
      "validation error: 8.39528365759179e-06\n",
      "34\n",
      "training error: 0.0009391783969476819\n",
      "validation error: 8.386571607843507e-06\n",
      "35\n",
      "training error: 0.0006541678449138999\n",
      "validation error: 8.386298759432975e-06\n",
      "36\n",
      "training error: 0.0008918857201933861\n",
      "validation error: 8.420134690823033e-06\n",
      "37\n",
      "training error: 0.0006477530696429312\n",
      "validation error: 8.409469955950044e-06\n",
      "38\n",
      "training error: 0.0007349071092903614\n",
      "validation error: 8.469529348076321e-06\n",
      "39\n",
      "training error: 0.0005264648934826255\n",
      "validation error: 8.415294360020198e-06\n",
      "40\n",
      "training error: 0.0006351500051096082\n",
      "validation error: 8.386354238609783e-06\n",
      "41\n",
      "training error: 0.0007157046347856522\n",
      "validation error: 8.4622852227767e-06\n",
      "42\n",
      "training error: 0.0007545272819697857\n",
      "validation error: 8.40300890558865e-06\n",
      "43\n",
      "training error: 0.0004847397212870419\n",
      "validation error: 8.423037797911093e-06\n",
      "44\n",
      "training error: 0.0008518503746017814\n",
      "validation error: 8.452500878775027e-06\n",
      "45\n",
      "training error: 0.0006106748478487134\n",
      "validation error: 8.407494533457793e-06\n",
      "46\n",
      "training error: 0.0006489158258773386\n",
      "validation error: 8.428550245298538e-06\n",
      "47\n",
      "training error: 0.0006346103618852794\n",
      "validation error: 8.388255082536489e-06\n",
      "48\n",
      "training error: 0.000753914238885045\n",
      "validation error: 8.447817890555598e-06\n",
      "49\n",
      "training error: 0.0008408980211243033\n",
      "validation error: 8.66962091095047e-06\n",
      "50\n",
      "training error: 0.0006737568182870746\n",
      "validation error: 8.385919500142336e-06\n",
      "51\n",
      "training error: 0.0006828428595326841\n",
      "validation error: 8.38876349007478e-06\n",
      "52\n",
      "training error: 0.0005756677710451186\n",
      "validation error: 8.410303053096868e-06\n",
      "53\n",
      "training error: 0.0007019101758487523\n",
      "validation error: 8.422148312092759e-06\n",
      "54\n",
      "training error: 0.0007973206229507923\n",
      "validation error: 8.408068424614612e-06\n",
      "55\n",
      "training error: 0.0007230312912724912\n",
      "validation error: 8.386813533434179e-06\n",
      "56\n",
      "training error: 0.000705031503457576\n",
      "validation error: 8.469021850032732e-06\n",
      "57\n",
      "training error: 0.000739780196454376\n",
      "validation error: 8.457582225673832e-06\n",
      "58\n",
      "training error: 0.0006881787558086216\n",
      "validation error: 8.390448783757165e-06\n",
      "59\n",
      "training error: 0.0005522770807147026\n",
      "validation error: 8.391506526095327e-06\n",
      "60\n",
      "training error: 0.0005770559655502439\n",
      "validation error: 8.426638487435412e-06\n",
      "61\n",
      "training error: 0.0007462326902896166\n",
      "validation error: 8.38884079712443e-06\n",
      "62\n",
      "training error: 0.0006637682090513408\n",
      "validation error: 8.419550795224495e-06\n",
      "63\n",
      "training error: 0.000747138459701091\n",
      "validation error: 8.4197581600165e-06\n",
      "64\n",
      "training error: 0.001209085457958281\n",
      "validation error: 8.419294317718595e-06\n",
      "65\n",
      "training error: 0.0006292816251516342\n",
      "validation error: 8.409925612795632e-06\n",
      "66\n",
      "training error: 0.0005762119544669986\n",
      "validation error: 8.394358701480087e-06\n",
      "67\n",
      "training error: 0.0006374249351210892\n",
      "validation error: 8.424891348113306e-06\n",
      "68\n",
      "training error: 0.0006892681121826172\n",
      "validation error: 8.39546282804804e-06\n",
      "69\n",
      "training error: 0.0007899163174442947\n",
      "validation error: 8.429813533439301e-06\n",
      "70\n",
      "training error: 0.0008356499602086842\n",
      "validation error: 8.544513548258692e-06\n",
      "71\n",
      "training error: 0.0008086096495389938\n",
      "validation error: 8.392057679884601e-06\n",
      "72\n",
      "training error: 0.0005464092246256769\n",
      "validation error: 8.412628631049301e-06\n",
      "73\n",
      "training error: 0.0006301118992269039\n",
      "validation error: 8.411928320128936e-06\n",
      "74\n",
      "training error: 0.000919003039598465\n",
      "validation error: 8.496924237988424e-06\n",
      "75\n",
      "training error: 0.0005640250165015459\n",
      "validation error: 8.452192560071126e-06\n",
      "76\n",
      "training error: 0.0006454576505348086\n",
      "validation error: 8.420570338785183e-06\n",
      "77\n",
      "training error: 0.0005230631795711815\n",
      "validation error: 8.4208868429414e-06\n",
      "78\n",
      "training error: 0.00049568124813959\n",
      "validation error: 8.411659109697212e-06\n",
      "79\n",
      "training error: 0.0005762916407547891\n",
      "validation error: 8.583503586123697e-06\n",
      "80\n",
      "training error: 0.0006986379157751799\n",
      "validation error: 8.401436389249284e-06\n",
      "81\n",
      "training error: 0.0007085907272994518\n",
      "validation error: 8.447575055470224e-06\n",
      "82\n",
      "training error: 0.000652385177090764\n",
      "validation error: 8.428055480180774e-06\n",
      "83\n",
      "training error: 0.0009750488679856062\n",
      "validation error: 8.480781616526656e-06\n",
      "84\n",
      "training error: 0.0010045412927865982\n",
      "validation error: 8.49295702209929e-06\n",
      "85\n",
      "training error: 0.0007431269041262567\n",
      "validation error: 8.40411757963011e-06\n",
      "86\n",
      "training error: 0.0005377699853852391\n",
      "validation error: 8.431446985923685e-06\n",
      "87\n",
      "training error: 0.0009334918577224016\n",
      "validation error: 8.413619070779532e-06\n",
      "88\n",
      "training error: 0.0004749333602376282\n",
      "validation error: 8.44376154418569e-06\n",
      "89\n",
      "training error: 0.0006150148110464215\n",
      "validation error: 8.46113107400015e-06\n",
      "90\n",
      "training error: 0.0005705486400984228\n",
      "validation error: 8.40129632706521e-06\n",
      "91\n",
      "training error: 0.0006547340890392661\n",
      "validation error: 8.430323759966996e-06\n",
      "92\n",
      "training error: 0.000790721969678998\n",
      "validation error: 8.48773470352171e-06\n",
      "93\n",
      "training error: 0.000612968928180635\n",
      "validation error: 8.480803444399498e-06\n",
      "94\n",
      "training error: 0.0010149277513846755\n",
      "validation error: 8.511048690706957e-06\n",
      "95\n",
      "training error: 0.0009050272637978196\n",
      "validation error: 8.465328392048832e-06\n",
      "96\n",
      "training error: 0.0006618404295295477\n",
      "validation error: 8.446027095487807e-06\n",
      "97\n",
      "training error: 0.0007676013628952205\n",
      "validation error: 8.519561561115552e-06\n",
      "98\n",
      "training error: 0.00085428636521101\n",
      "validation error: 8.481621989631094e-06\n",
      "99\n",
      "training error: 0.0005899578100070357\n",
      "validation error: 8.484625141136348e-06\n",
      "100\n",
      "training error: 0.0008449021261185408\n",
      "validation error: 8.434842129645403e-06\n"
     ]
    }
   ],
   "source": [
    "epoch = 100\n",
    "model = FcNet(x_size, y_size)\n",
    "model.cuda() # using gpu\n",
    "\n",
    "#loss_func = torch.nn.MSELoss()\n",
    "loss_func = mape_loss\n",
    "#optimizer = torch.optim.SGD(model.parameters(), lr=0.03)\n",
    "optimizer = torch.optim.Adam(model.parameters(), lr=0.03)\n",
    "\n",
    "for t in range(epoch):  \n",
    "    for step, (b_x, b_y) in enumerate(train_loader):\n",
    "        b_x, b_y = Variable(b_x).type(torch.FloatTensor).cuda(), Variable(b_y).type(torch.FloatTensor).cuda()\n",
    "        pred, _, _ = model(b_x)\n",
    "        loss = loss_func(pred, b_y)\n",
    "        optimizer.zero_grad()\n",
    "        loss.backward()\n",
    "        optimizer.step()\n",
    "\n",
    "    y_val_predict, _, _ = model(x_val)\n",
    "    print(str(t+1))\n",
    "    print('training error:', loss.data[0])\n",
    "    print('validation error:', loss_func(y_val_predict, y_val).data[0])\n",
    "    "
   ]
  },
  {
   "cell_type": "code",
   "execution_count": 75,
   "metadata": {},
   "outputs": [],
   "source": [
    "import matplotlib.pyplot as plt\n",
    "predict = model(Variable(x_train).type(torch.FloatTensor).cuda())[0].type(torch.FloatTensor).data.numpy()\n",
    "ground_truth = y_train.numpy()"
   ]
  },
  {
   "cell_type": "code",
   "execution_count": 76,
   "metadata": {},
   "outputs": [
    {
     "data": {
      "image/png": "[encoded data removed]",
      "text/plain": [
       "<matplotlib.figure.Figure at 0x21fe12a6eb8>"
      ]
     },
     "metadata": {},
     "output_type": "display_data"
    }
   ],
   "source": [
    "x = range(288*2)\n",
    "plt.plot(x, predict[:288*2], 'r', x, ground_truth[:288*2], 'b')\n",
    "plt.show()"
   ]
  },
  {
   "cell_type": "code",
   "execution_count": 77,
   "metadata": {},
   "outputs": [
    {
     "data": {
      "image/png": "[encoded data removed]",
      "text/plain": [
       "<matplotlib.figure.Figure at 0x21f8c773630>"
      ]
     },
     "metadata": {},
     "output_type": "display_data"
    }
   ],
   "source": [
    "val_predict = model(x_val.type(torch.FloatTensor).cuda())[0].type(torch.FloatTensor).data.numpy()\n",
    "val_ground_truth = y_val.type(torch.FloatTensor).data.numpy()\n",
    "plt.plot(x, val_predict, 'r', x, val_ground_truth, 'b')\n",
    "plt.show()"
   ]
  },
  {
   "cell_type": "code",
   "execution_count": 80,
   "metadata": {},
   "outputs": [
    {
     "data": {
      "text/plain": [
       "numpy.ndarray"
      ]
     },
     "execution_count": 80,
     "metadata": {},
     "output_type": "execute_result"
    }
   ],
   "source": [
    "type(ground_truth)"
   ]
  },
  {
   "cell_type": "code",
   "execution_count": 79,
   "metadata": {},
   "outputs": [
    {
     "data": {
      "text/plain": [
       "numpy.ndarray"
      ]
     },
     "execution_count": 79,
     "metadata": {},
     "output_type": "execute_result"
    }
   ],
   "source": [
    "type(predict)"
   ]
  },
  {
   "cell_type": "code",
   "execution_count": 106,
   "metadata": {},
   "outputs": [
    {
     "data": {
      "text/plain": [
       "1.48005289621379e-07"
      ]
     },
     "execution_count": 106,
     "metadata": {},
     "output_type": "execute_result"
    }
   ],
   "source": [
    "mape_loss(predict, ground_truth)"
   ]
  },
  {
   "cell_type": "code",
   "execution_count": 107,
   "metadata": {},
   "outputs": [
    {
     "data": {
      "text/plain": [
       "6.1291933956521531e-06"
      ]
     },
     "execution_count": 107,
     "metadata": {},
     "output_type": "execute_result"
    }
   ],
   "source": [
    "mape_loss(val_predict, val_ground_truth)"
   ]
  },
  {
   "cell_type": "code",
   "execution_count": 92,
   "metadata": {},
   "outputs": [],
   "source": [
    "import numpy as np"
   ]
  },
  {
   "cell_type": "code",
   "execution_count": 93,
   "metadata": {},
   "outputs": [
    {
     "data": {
      "text/plain": [
       "nan"
      ]
     },
     "execution_count": 93,
     "metadata": {},
     "output_type": "execute_result"
    }
   ],
   "source": []
  },
  {
   "cell_type": "code",
   "execution_count": null,
   "metadata": {},
   "outputs": [],
   "source": []
  }
 ],
 "metadata": {
  "kernelspec": {
   "display_name": "Python 3",
   "language": "python",
   "name": "python3"
  },
  "language_info": {
   "codemirror_mode": {
    "name": "ipython",
    "version": 3
   },
   "file_extension": ".py",
   "mimetype": "text/x-python",
   "name": "python",
   "nbconvert_exporter": "python",
   "pygments_lexer": "ipython3",
   "version": "3.6.3"
  }
 },
 "nbformat": 4,
 "nbformat_minor": 2
}
