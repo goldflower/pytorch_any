{
 "cells": [
  {
   "cell_type": "code",
   "execution_count": 59,
   "metadata": {},
   "outputs": [],
   "source": [
    "from sklearn import neighbors\n",
    "from sklearn.preprocessing import Normalizer, OneHotEncoder, StandardScaler, LabelEncoder, normalize\n",
    "\n",
    "from keras.models import Sequential\n",
    "from keras.layers import Dense, Activation, Reshape, Merge, Embedding, BatchNormalization, Dropout\n",
    "from keras.callbacks import ModelCheckpoint\n",
    "\n",
    "import pandas as pd\n",
    "import numpy as np\n",
    "np.random.seed(123)\n",
    "\n",
    "import pickle, sys, csv\n",
    "from datetime import datetime"
   ]
  },
  {
   "cell_type": "code",
   "execution_count": 2,
   "metadata": {},
   "outputs": [],
   "source": [
    "df = pd.read_csv('Route15.csv', index_col=0)\n",
    "df['TT_30'] = df['TT'].shift(-6)"
   ]
  },
  {
   "cell_type": "code",
   "execution_count": 3,
   "metadata": {},
   "outputs": [],
   "source": [
    "cols = \"\"\"['W_TT',\n",
    " 'S_TT',\n",
    " 'SpdAvg0',\n",
    " 'occ0',\n",
    " 'SpdAvg1',\n",
    " 'occ1',\n",
    " 'SpdAvg2',\n",
    " 'occ2',\n",
    " 'SpdAvg3',\n",
    " 'occ3',\n",
    " 'SpdAvg4',\n",
    " 'occ4',\n",
    " 'SpdAvg5',\n",
    " 'occ5',\n",
    " 'SpdTrnd0',\n",
    " 'SpdTrnd1',\n",
    " 'SpdTrnd2',\n",
    " 'SpdTrnd3',\n",
    " 'SpdTrnd4',\n",
    " 'SpdTrnd5',\n",
    " 'Evt0',\n",
    " 'Evt1',\n",
    " 'Evt2',\n",
    " 'Evt3',\n",
    " 'Evt4',\n",
    " 'Evt5',\n",
    " 'Lanes0',\n",
    " 'Lanes1',\n",
    " 'Lanes2',\n",
    " 'Lanes3',\n",
    " 'Lanes4',\n",
    " 'Lanes5',\n",
    " 'hldy_seq',\n",
    " 'weekday',\n",
    " 'timeslot',\n",
    " 'TT_mean']\"\"\".replace('[', '').replace(']','').replace(\"'\",'').replace('\\n ','').split(',')"
   ]
  },
  {
   "cell_type": "code",
   "execution_count": 4,
   "metadata": {},
   "outputs": [],
   "source": [
    "train_df, val_df = df[288*517:288*700], df[288*700:288*731]"
   ]
  },
  {
   "cell_type": "code",
   "execution_count": 5,
   "metadata": {},
   "outputs": [],
   "source": [
    "train_df_x, train_df_y = train_df.drop('TT_30', 1), train_df[['TT_30']]\n",
    "val_df_x, val_df_y = val_df.drop('TT_30', 1), val_df[['TT_30']]"
   ]
  },
  {
   "cell_type": "code",
   "execution_count": 6,
   "metadata": {},
   "outputs": [],
   "source": [
    "train_df_x = train_df_x[cols]\n",
    "val_df_x = val_df_x[cols]"
   ]
  },
  {
   "cell_type": "code",
   "execution_count": 7,
   "metadata": {},
   "outputs": [],
   "source": [
    "cats = ['Evt0','Evt1', 'Evt2', 'Evt3', 'Evt4', 'Evt5', 'Lanes0', 'Lanes1', 'Lanes2', 'Lanes3', 'Lanes4', 'Lanes5',\n",
    " 'hldy_seq', 'weekday', 'timeslot']\n",
    "nums = list(set(cols) - set(cats))"
   ]
  },
  {
   "cell_type": "code",
   "execution_count": 8,
   "metadata": {},
   "outputs": [],
   "source": [
    "train_df_cat_x = train_df_x[cats]\n",
    "train_df_num_x = train_df_x[nums]\n",
    "val_df_cat_x = val_df_x[cats]\n",
    "val_df_num_x = val_df_x[nums]"
   ]
  },
  {
   "cell_type": "code",
   "execution_count": 17,
   "metadata": {},
   "outputs": [],
   "source": [
    "train_df_cat_x = train_df_cat_x.fillna('-99')\n",
    "val_df_cat_x = val_df_cat_x.fillna('-99')\n",
    "all_df_cat_x = df[cats].fillna('-99')"
   ]
  },
  {
   "cell_type": "code",
   "execution_count": 18,
   "metadata": {},
   "outputs": [],
   "source": [
    "train_df_num_x = train_df_num_x.replace([-99, '-99'], -1).fillna(-1)\n",
    "val_df_num_x = val_df_num_x.replace([-99, '-99'], -1).fillna(-1)"
   ]
  },
  {
   "cell_type": "code",
   "execution_count": 19,
   "metadata": {},
   "outputs": [],
   "source": [
    "for cat in cats:\n",
    "    train_df_cat_x[cat] = train_df_cat_x[cat].astype('int').astype('str')\n",
    "    val_df_cat_x[cat] = val_df_cat_x[cat].astype('int').astype('str')\n",
    "    all_df_cat_x[cat] = all_df_cat_x[cat].astype('int').astype('str')"
   ]
  },
  {
   "cell_type": "code",
   "execution_count": 20,
   "metadata": {},
   "outputs": [],
   "source": [
    "train_cat_x = train_df_cat_x.values.copy().astype('int')\n",
    "val_cat_x = val_df_cat_x.values.copy().astype('int')\n",
    "all_cat_x = all_df_cat_x.values.copy().astype('int')\n",
    "train_num_x = train_df_num_x.values.copy().astype('int')\n",
    "val_num_x = val_df_num_x.values.copy().astype('int')"
   ]
  },
  {
   "cell_type": "code",
   "execution_count": 21,
   "metadata": {},
   "outputs": [],
   "source": [
    "train_y = train_df_y.values.copy().flatten()\n",
    "val_y = val_df_y.values.copy().flatten()"
   ]
  },
  {
   "cell_type": "code",
   "execution_count": 22,
   "metadata": {},
   "outputs": [],
   "source": [
    "les = []\n",
    "for i in range(train_df_cat_x.shape[1]):\n",
    "    le = LabelEncoder()\n",
    "    le.fit(all_cat_x[:, i])\n",
    "    les.append(le)\n",
    "    train_cat_x[:, i] = le.transform(train_cat_x[:, i])\n",
    "    val_cat_x[:,i] = le.transform(val_cat_x[:, i])"
   ]
  },
  {
   "cell_type": "code",
   "execution_count": 23,
   "metadata": {},
   "outputs": [],
   "source": [
    "def split_features(X):\n",
    "    X_list = []\n",
    "    for i in range(len(X[0,:])):\n",
    "        X_list.append(X[:, i])\n",
    "    return X_list"
   ]
  },
  {
   "cell_type": "code",
   "execution_count": 24,
   "metadata": {},
   "outputs": [],
   "source": [
    "class Model(object):\n",
    "    def evaluate(self, X_val, y_val):\n",
    "        assert(min(y_val) > 0)\n",
    "        guessed_sales = self.guess(X_val)\n",
    "        relative_err = np.absolute((y_val - guessed_sales) / y_val)\n",
    "        result = np.sum(relative_err) / len(y_val)\n",
    "        return result"
   ]
  },
  {
   "cell_type": "code",
   "execution_count": 66,
   "metadata": {},
   "outputs": [],
   "source": [
    "class NN_with_EntityEmbedding(Model):\n",
    "\n",
    "    def __init__(self, X_train, y_train, X_val, y_val, n_cats):\n",
    "        super().__init__()\n",
    "        self.data_shape = X_train.shape\n",
    "        self.n_cats = n_cats\n",
    "        self.unique_values = []\n",
    "        for i in range(n_cats):\n",
    "            self.unique_values.append(len(set(X_train[:, i])))\n",
    "        self.nb_epoch = 50\n",
    "        self.checkpointer = ModelCheckpoint(filepath=\"best_model_weights.hdf5\", verbose=1, save_best_only=True)\n",
    "        self.max_log_y = max(np.max(np.log(y_train)), np.max(np.log(y_val)))\n",
    "        self.__build_keras_model()\n",
    "        self.fit(X_train, y_train, X_val, y_val)\n",
    "\n",
    "    def preprocessing(self, X):\n",
    "        X_list = split_features(X)\n",
    "        return X_list\n",
    "\n",
    "    def __build_keras_model(self):\n",
    "        models = []\n",
    "        \n",
    "        for i in self.unique_values:\n",
    "            model = Sequential()\n",
    "            model.add(Embedding(i+1, min(i+1, 10), input_length=1))\n",
    "            model.add(Reshape(target_shape=(min(i+1, 10), )))\n",
    "            models.append(model)\n",
    "            \n",
    "        print(len(models))\n",
    "        for _ in range(self.n_cats, self.data_shape[1]):\n",
    "            model = Sequential()\n",
    "            model.add(Dense(1, input_dim=1))\n",
    "            models.append(model)\n",
    "            \n",
    "        print(len(models))\n",
    "        \n",
    "        self.model = Sequential()\n",
    "        self.model.add(Merge(models, mode='concat'))\n",
    "        self.model.add(Dense(1000, kernel_initializer='uniform'))\n",
    "        self.model.add(BatchNormalization())\n",
    "        self.model.add(Activation('relu'))\n",
    "        self.model.add(Dropout(0.5))        \n",
    "        self.model.add(Dense(500, kernel_initializer='uniform'))\n",
    "        self.model.add(BatchNormalization())        \n",
    "        self.model.add(Activation('relu'))\n",
    "        self.model.add(Dropout(0.5))\n",
    "        self.model.add(Dense(500, kernel_initializer='uniform'))\n",
    "        self.model.add(BatchNormalization())        \n",
    "        self.model.add(Activation('relu'))\n",
    "        self.model.add(Dropout(0.5))\n",
    "        self.model.add(Dense(500, kernel_initializer='uniform'))\n",
    "        self.model.add(BatchNormalization())        \n",
    "        self.model.add(Activation('relu'))\n",
    "        self.model.add(Dropout(0.5))        \n",
    "        self.model.add(Dense(500, kernel_initializer='uniform'))\n",
    "        self.model.add(BatchNormalization())        \n",
    "        self.model.add(Activation('relu'))\n",
    "        self.model.add(Dropout(0.5))\n",
    "        self.model.add(Dense(500, kernel_initializer='uniform'))\n",
    "        self.model.add(BatchNormalization())        \n",
    "        self.model.add(Activation('relu'))\n",
    "        self.model.add(Dropout(0.5))        \n",
    "        self.model.add(Dense(1))\n",
    "        self.model.add(BatchNormalization())        \n",
    "        self.model.add(Activation('sigmoid'))\n",
    "\n",
    "        self.model.compile(loss='mean_absolute_error', optimizer='adam')\n",
    "\n",
    "    def _val_for_fit(self, val):\n",
    "        val = np.log(val) / self.max_log_y\n",
    "        return val\n",
    "\n",
    "    def _val_for_pred(self, val):\n",
    "        return np.exp(val * self.max_log_y)\n",
    "\n",
    "    def fit(self, X_train, y_train, X_val, y_val):\n",
    "        self.model.fit(self.preprocessing(X_train), self._val_for_fit(y_train),\n",
    "                       validation_data=(self.preprocessing(X_val), self._val_for_fit(y_val)),\n",
    "                       epochs=self.nb_epoch, batch_size=128,\n",
    "                       # callbacks=[self.checkpointer],\n",
    "                       )\n",
    "        # self.model.load_weights('best_model_weights.hdf5')\n",
    "        print(\"Result on validation data: \", self.evaluate(X_val, y_val))\n",
    "\n",
    "    def guess(self, features):\n",
    "        features = self.preprocessing(features)\n",
    "        result = self.model.predict(features).flatten()\n",
    "        return self._val_for_pred(result)"
   ]
  },
  {
   "cell_type": "code",
   "execution_count": 67,
   "metadata": {},
   "outputs": [],
   "source": [
    "t1, t2 = train_cat_x[:,:12], val_cat_x[:,:12]\n",
    "t1, t2 = train_cat_x[:,13:15], val_cat_x[:,13:15]\n",
    "l = list(range(13)) + [13, 14]\n",
    "t1, t2 = train_cat_x[:, l], val_cat_x[:, l]"
   ]
  },
  {
   "cell_type": "code",
   "execution_count": 68,
   "metadata": {},
   "outputs": [
    {
     "data": {
      "text/plain": [
       "Normalizer(copy=True, norm='l2')"
      ]
     },
     "execution_count": 68,
     "metadata": {},
     "output_type": "execute_result"
    }
   ],
   "source": [
    "normalizer = Normalizer()\n",
    "normalizer.fit(train_num_x)"
   ]
  },
  {
   "cell_type": "code",
   "execution_count": 69,
   "metadata": {},
   "outputs": [],
   "source": [
    "train_all = np.hstack((train_cat_x, normalizer.transform(train_num_x)))\n",
    "val_all = np.hstack((val_cat_x, normalizer.transform(val_num_x)))\n",
    "t1, t2 = train_all, val_all"
   ]
  },
  {
   "cell_type": "code",
   "execution_count": 70,
   "metadata": {},
   "outputs": [
    {
     "name": "stdout",
     "output_type": "stream",
     "text": [
      "15\n",
      "36\n"
     ]
    },
    {
     "name": "stderr",
     "output_type": "stream",
     "text": [
      "C:\\Anaconda3\\envs\\gf\\lib\\site-packages\\ipykernel_launcher.py:38: UserWarning: The `Merge` layer is deprecated and will be removed after 08/2017. Use instead layers from `keras.layers.merge`, e.g. `add`, `concatenate`, etc.\n"
     ]
    },
    {
     "name": "stdout",
     "output_type": "stream",
     "text": [
      "Train on 52704 samples, validate on 8928 samples\n",
      "Epoch 1/50\n",
      "52704/52704 [==============================] - 27s 513us/step - loss: 0.0586 - val_loss: 0.3602\n",
      "Epoch 2/50\n",
      "52704/52704 [==============================] - 23s 430us/step - loss: 0.0210 - val_loss: 0.0189\n",
      "Epoch 3/50\n",
      "52704/52704 [==============================] - 23s 433us/step - loss: 0.0171 - val_loss: 0.0138\n",
      "Epoch 4/50\n",
      "52704/52704 [==============================] - 23s 437us/step - loss: 0.0182 - val_loss: 0.0144\n",
      "Epoch 5/50\n",
      "52704/52704 [==============================] - 22s 427us/step - loss: 0.0157 - val_loss: 0.0117\n",
      "Epoch 6/50\n",
      "52704/52704 [==============================] - 23s 432us/step - loss: 0.0147 - val_loss: 0.0139\n",
      "Epoch 7/50\n",
      "52704/52704 [==============================] - 23s 432us/step - loss: 0.0147 - val_loss: 0.0183\n",
      "Epoch 8/50\n",
      "52704/52704 [==============================] - 23s 431us/step - loss: 0.0147 - val_loss: 0.0100\n",
      "Epoch 9/50\n",
      "52704/52704 [==============================] - 23s 431us/step - loss: 0.0143 - val_loss: 0.0212\n",
      "Epoch 10/50\n",
      "52704/52704 [==============================] - 22s 425us/step - loss: 0.0143 - val_loss: 0.0204\n",
      "Epoch 11/50\n",
      "52704/52704 [==============================] - 23s 431us/step - loss: 0.0137 - val_loss: 0.0195\n",
      "Epoch 12/50\n",
      "52704/52704 [==============================] - 23s 430us/step - loss: 0.0136 - val_loss: 0.0193\n",
      "Epoch 13/50\n",
      "52704/52704 [==============================] - 23s 432us/step - loss: 0.0130 - val_loss: 0.0143\n",
      "Epoch 14/50\n",
      "52704/52704 [==============================] - 23s 433us/step - loss: 0.0100 - val_loss: 0.0079\n",
      "Epoch 15/50\n",
      "52704/52704 [==============================] - 22s 426us/step - loss: 0.0076 - val_loss: 0.0079\n",
      "Epoch 16/50\n",
      "52704/52704 [==============================] - 23s 431us/step - loss: 0.0076 - val_loss: 0.0080\n",
      "Epoch 17/50\n",
      "52704/52704 [==============================] - 23s 431us/step - loss: 0.0076 - val_loss: 0.0079\n",
      "Epoch 18/50\n",
      "52704/52704 [==============================] - 23s 432us/step - loss: 0.0076 - val_loss: 0.0079\n",
      "Epoch 19/50\n",
      "52704/52704 [==============================] - 23s 431us/step - loss: 0.0076 - val_loss: 0.0079\n",
      "Epoch 20/50\n",
      "52704/52704 [==============================] - 23s 428us/step - loss: 0.0076 - val_loss: 0.0079\n",
      "Epoch 21/50\n",
      "52704/52704 [==============================] - 22s 423us/step - loss: 0.0076 - val_loss: 0.0079\n",
      "Epoch 22/50\n",
      "52704/52704 [==============================] - 23s 431us/step - loss: 0.0076 - val_loss: 0.0079\n",
      "Epoch 23/50\n",
      "52704/52704 [==============================] - 23s 432us/step - loss: 0.0076 - val_loss: 0.0079\n",
      "Epoch 24/50\n",
      "52704/52704 [==============================] - 23s 431us/step - loss: 0.0076 - val_loss: 0.0079\n",
      "Epoch 25/50\n",
      "52704/52704 [==============================] - 23s 433us/step - loss: 0.0076 - val_loss: 0.0079\n",
      "Epoch 26/50\n",
      "52704/52704 [==============================] - 22s 418us/step - loss: 0.0076 - val_loss: 0.0079\n",
      "Epoch 27/50\n",
      "52704/52704 [==============================] - 23s 430us/step - loss: 0.0076 - val_loss: 0.0079\n",
      "Epoch 28/50\n",
      "52704/52704 [==============================] - 23s 432us/step - loss: 0.0074 - val_loss: 0.0077\n",
      "Epoch 29/50\n",
      "52704/52704 [==============================] - 23s 431us/step - loss: 0.0073 - val_loss: 0.0076\n",
      "Epoch 30/50\n",
      "52704/52704 [==============================] - 23s 432us/step - loss: 0.0073 - val_loss: 0.0076\n",
      "Epoch 31/50\n",
      "52704/52704 [==============================] - 22s 421us/step - loss: 0.0073 - val_loss: 0.0076\n",
      "Epoch 32/50\n",
      "52704/52704 [==============================] - 23s 429us/step - loss: 0.0064 - val_loss: 0.0078\n",
      "Epoch 33/50\n",
      "52704/52704 [==============================] - 23s 431us/step - loss: 0.0057 - val_loss: 0.0069\n",
      "Epoch 34/50\n",
      "52704/52704 [==============================] - 23s 434us/step - loss: 0.0054 - val_loss: 0.0067\n",
      "Epoch 35/50\n",
      "52704/52704 [==============================] - 23s 432us/step - loss: 0.0053 - val_loss: 0.0070\n",
      "Epoch 36/50\n",
      "52704/52704 [==============================] - 23s 429us/step - loss: 0.0052 - val_loss: 0.0069\n",
      "Epoch 37/50\n",
      "52704/52704 [==============================] - 23s 428us/step - loss: 0.0052 - val_loss: 0.0066\n",
      "Epoch 38/50\n",
      "52704/52704 [==============================] - 23s 433us/step - loss: 0.0051 - val_loss: 0.0067\n",
      "Epoch 39/50\n",
      "52704/52704 [==============================] - 23s 433us/step - loss: 0.0051 - val_loss: 0.0067\n",
      "Epoch 40/50\n",
      "52704/52704 [==============================] - 23s 439us/step - loss: 0.0051 - val_loss: 0.0066\n",
      "Epoch 41/50\n",
      "52704/52704 [==============================] - 20s 379us/step - loss: 0.0051 - val_loss: 0.0064\n",
      "Epoch 42/50\n",
      "52704/52704 [==============================] - 20s 371us/step - loss: 0.0050 - val_loss: 0.0066\n",
      "Epoch 43/50\n",
      "52704/52704 [==============================] - 22s 425us/step - loss: 0.0050 - val_loss: 0.0065\n",
      "Epoch 44/50\n",
      "52704/52704 [==============================] - 22s 422us/step - loss: 0.0050 - val_loss: 0.0064\n",
      "Epoch 45/50\n",
      "52704/52704 [==============================] - 22s 424us/step - loss: 0.0050 - val_loss: 0.0067\n",
      "Epoch 46/50\n",
      "52704/52704 [==============================] - 22s 425us/step - loss: 0.0049 - val_loss: 0.0065\n",
      "Epoch 47/50\n",
      "52704/52704 [==============================] - 22s 423us/step - loss: 0.0049 - val_loss: 0.0063\n",
      "Epoch 48/50\n",
      "52704/52704 [==============================] - 22s 425us/step - loss: 0.0049 - val_loss: 0.0062\n",
      "Epoch 49/50\n",
      "52704/52704 [==============================] - 23s 427us/step - loss: 0.0049 - val_loss: 0.0061\n",
      "Epoch 50/50\n",
      "52704/52704 [==============================] - 22s 419us/step - loss: 0.0049 - val_loss: 0.0060\n",
      "Result on validation data:  0.0448902633714\n"
     ]
    }
   ],
   "source": [
    "m = NN_with_EntityEmbedding(t1, train_y, t2, val_y, n_cats=len(cats))"
   ]
  },
  {
   "cell_type": "code",
   "execution_count": 31,
   "metadata": {},
   "outputs": [
    {
     "data": {
      "text/plain": [
       "array([ 144.44680786,  145.77832031,  145.94734192, ...,  141.63539124,\n",
       "        141.95899963,  142.79364014], dtype=float32)"
      ]
     },
     "execution_count": 31,
     "metadata": {},
     "output_type": "execute_result"
    }
   ],
   "source": [
    "m.guess(t1)"
   ]
  },
  {
   "cell_type": "code",
   "execution_count": null,
   "metadata": {},
   "outputs": [],
   "source": []
  }
 ],
 "metadata": {
  "kernelspec": {
   "display_name": "Python 3",
   "language": "python",
   "name": "python3"
  },
  "language_info": {
   "codemirror_mode": {
    "name": "ipython",
    "version": 3
   },
   "file_extension": ".py",
   "mimetype": "text/x-python",
   "name": "python",
   "nbconvert_exporter": "python",
   "pygments_lexer": "ipython3",
   "version": "3.6.3"
  }
 },
 "nbformat": 4,
 "nbformat_minor": 2
}
